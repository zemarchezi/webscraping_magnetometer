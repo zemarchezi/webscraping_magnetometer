{
  "nbformat": 4,
  "nbformat_minor": 0,
  "metadata": {
    "colab": {
      "provenance": [],
      "authorship_tag": "ABX9TyNPdxRHKoOiK1iV+kFUP6Gu",
      "include_colab_link": true
    },
    "kernelspec": {
      "name": "python3",
      "display_name": "Python 3"
    },
    "language_info": {
      "name": "python"
    }
  },
  "cells": [
    {
      "cell_type": "markdown",
      "metadata": {
        "id": "view-in-github",
        "colab_type": "text"
      },
      "source": [
        "<a href=\"https://colab.research.google.com/github/zemarchezi/webscraping_magnetometer/blob/main/embrace_scraping.ipynb\" target=\"_parent\"><img src=\"https://colab.research.google.com/assets/colab-badge.svg\" alt=\"Open In Colab\"/></a>"
      ]
    },
    {
      "cell_type": "code",
      "source": [
        "!pip install requests beautifulsoup4"
      ],
      "metadata": {
        "colab": {
          "base_uri": "https://localhost:8080/"
        },
        "id": "_Ko8IX26CtqV",
        "outputId": "a6d644db-baaf-4e41-8307-d663387c8b25"
      },
      "execution_count": 1,
      "outputs": [
        {
          "output_type": "stream",
          "name": "stdout",
          "text": [
            "Requirement already satisfied: requests in /usr/local/lib/python3.10/dist-packages (2.32.3)\n",
            "Requirement already satisfied: beautifulsoup4 in /usr/local/lib/python3.10/dist-packages (4.12.3)\n",
            "Requirement already satisfied: charset-normalizer<4,>=2 in /usr/local/lib/python3.10/dist-packages (from requests) (3.4.0)\n",
            "Requirement already satisfied: idna<4,>=2.5 in /usr/local/lib/python3.10/dist-packages (from requests) (3.10)\n",
            "Requirement already satisfied: urllib3<3,>=1.21.1 in /usr/local/lib/python3.10/dist-packages (from requests) (2.2.3)\n",
            "Requirement already satisfied: certifi>=2017.4.17 in /usr/local/lib/python3.10/dist-packages (from requests) (2024.8.30)\n",
            "Requirement already satisfied: soupsieve>1.2 in /usr/local/lib/python3.10/dist-packages (from beautifulsoup4) (2.6)\n"
          ]
        }
      ]
    },
    {
      "cell_type": "code",
      "execution_count": 2,
      "metadata": {
        "id": "dtM6DJIgCswc"
      },
      "outputs": [],
      "source": [
        "import requests\n",
        "from bs4 import BeautifulSoup\n",
        "from urllib.parse import urljoin"
      ]
    },
    {
      "cell_type": "code",
      "source": [
        "def list_files_and_folders(url, depth=0):\n",
        "    try:\n",
        "        response = requests.get(url)\n",
        "        response.raise_for_status()\n",
        "\n",
        "\n",
        "        soup = BeautifulSoup(response.text, 'html.parser')\n",
        "\n",
        "\n",
        "        files_count = 0\n",
        "        files_details = []\n",
        "\n",
        "\n",
        "        for link in soup.find_all('a'):\n",
        "            href = link.get('href')\n",
        "\n",
        "\n",
        "            if href in ('../', '/'):\n",
        "                continue\n",
        "\n",
        "\n",
        "            full_url = urljoin(url, href)\n",
        "\n",
        "            if href.endswith('/'):\n",
        "                print(f\"{'  ' * depth}📂 Diretório: {href}\")\n",
        "\n",
        "                files, details = list_files_and_folders(full_url, depth + 1)\n",
        "                files_count += files\n",
        "                files_details.extend(details)\n",
        "            else:\n",
        "                print(f\"{'  ' * depth}📄 Arquivo: {href}\")\n",
        "                files_count += 1\n",
        "\n",
        "                files_details.append((href, extract_date_from_filename(href)))\n",
        "\n",
        "        return files_count, files_details\n",
        "\n",
        "    except Exception as e:\n",
        "        print(f\"Erro ao acessar {url}: {e}\")\n",
        "        return 0, []"
      ],
      "metadata": {
        "id": "pDELMjj1Cw9u"
      },
      "execution_count": 3,
      "outputs": []
    },
    {
      "cell_type": "code",
      "source": [
        "def extract_date_from_filename(filename):\n",
        "    # Extrai ano, mês, dia do nome do arquivo (exemplo: \"20231010_data.txt\")\n",
        "    import re\n",
        "    match = re.search(r'(\\d{4})(\\d{2})(\\d{2})', filename)\n",
        "    if match:\n",
        "        year, month, day = match.groups()\n",
        "        return f\"{year}-{month}-{day}\"\n",
        "    return \"Data não identificada\"\n",
        "\n"
      ],
      "metadata": {
        "id": "KpSi9elNC354"
      },
      "execution_count": 4,
      "outputs": []
    },
    {
      "cell_type": "code",
      "source": [
        "base_url = \"https://embracedata.inpe.br/magnetometer/\"\n",
        "\n",
        "response = requests.get(base_url)\n",
        "response.raise_for_status()\n",
        "\n",
        "\n",
        "soup = BeautifulSoup(response.text, 'html.parser')"
      ],
      "metadata": {
        "id": "F9ujwtMEDWiA"
      },
      "execution_count": 7,
      "outputs": []
    },
    {
      "cell_type": "code",
      "source": [
        "liks = soup.find_all('a')"
      ],
      "metadata": {
        "id": "wwd_JYICDWfD"
      },
      "execution_count": 9,
      "outputs": []
    },
    {
      "cell_type": "code",
      "source": [
        "liks"
      ],
      "metadata": {
        "colab": {
          "base_uri": "https://localhost:8080/"
        },
        "id": "INf9hKFbDWck",
        "outputId": "7849d06a-3e3e-4a95-a4d7-248d5c32ea0e"
      },
      "execution_count": 10,
      "outputs": [
        {
          "output_type": "execute_result",
          "data": {
            "text/plain": [
              "[<a href=\"?C=N;O=D\">Name</a>,\n",
              " <a href=\"?C=M;O=A\">Last modified</a>,\n",
              " <a href=\"?C=S;O=A\">Size</a>,\n",
              " <a href=\"?C=D;O=A\">Description</a>,\n",
              " <a href=\"/\">Parent Directory</a>,\n",
              " <a href=\"ALF/\">ALF/</a>,\n",
              " <a href=\"ARA/\">ARA/</a>,\n",
              " <a href=\"CBA/\">CBA/</a>,\n",
              " <a href=\"CHI/\">CHI/</a>,\n",
              " <a href=\"CXP/\">CXP/</a>,\n",
              " <a href=\"EUS/\">EUS/</a>,\n",
              " <a href=\"JAT/\">JAT/</a>,\n",
              " <a href=\"MAN/\">MAN/</a>,\n",
              " <a href=\"MED/\">MED/</a>,\n",
              " <a href=\"PAL/\">PAL/</a>,\n",
              " <a href=\"PVE/\">PVE/</a>,\n",
              " <a href=\"RGA/\">RGA/</a>,\n",
              " <a href=\"SJC/\">SJC/</a>,\n",
              " <a href=\"SLZ/\">SLZ/</a>,\n",
              " <a href=\"SMS/\">SMS/</a>,\n",
              " <a href=\"STM/\">STM/</a>,\n",
              " <a href=\"TCM/\">TCM/</a>,\n",
              " <a href=\"VSS/\">VSS/</a>,\n",
              " <a href=\"readme_magnetometer.txt\">readme_magnetometer.txt</a>]"
            ]
          },
          "metadata": {},
          "execution_count": 10
        }
      ]
    },
    {
      "cell_type": "code",
      "source": [
        "href = liks[5].get('href')"
      ],
      "metadata": {
        "id": "Nto3zqm5DoBh"
      },
      "execution_count": 11,
      "outputs": []
    },
    {
      "cell_type": "code",
      "source": [
        "href"
      ],
      "metadata": {
        "colab": {
          "base_uri": "https://localhost:8080/",
          "height": 35
        },
        "id": "3gxAfpwbD1qB",
        "outputId": "f314b7bd-6f46-486a-cb3f-f358647d7c77"
      },
      "execution_count": 12,
      "outputs": [
        {
          "output_type": "execute_result",
          "data": {
            "text/plain": [
              "'ALF/'"
            ],
            "application/vnd.google.colaboratory.intrinsic+json": {
              "type": "string"
            }
          },
          "metadata": {},
          "execution_count": 12
        }
      ]
    },
    {
      "cell_type": "code",
      "source": [
        "\n",
        "print(f\"\\nTotal de arquivos encontrados: {total_files}\")\n",
        "print(\"Detalhes dos arquivos encontrados:\")\n",
        "for filename, date in file_details:\n",
        "    print(f\"Arquivo: {filename} | Data: {date}\")"
      ],
      "metadata": {
        "colab": {
          "base_uri": "https://localhost:8080/",
          "height": 193
        },
        "id": "3J1HZguYC6pk",
        "outputId": "805a1f02-0f58-447e-9b48-ab5a015a812b"
      },
      "execution_count": 6,
      "outputs": [
        {
          "output_type": "error",
          "ename": "NameError",
          "evalue": "name 'total_files' is not defined",
          "traceback": [
            "\u001b[0;31m---------------------------------------------------------------------------\u001b[0m",
            "\u001b[0;31mNameError\u001b[0m                                 Traceback (most recent call last)",
            "\u001b[0;32m<ipython-input-6-b2a2577e54b8>\u001b[0m in \u001b[0;36m<cell line: 1>\u001b[0;34m()\u001b[0m\n\u001b[0;32m----> 1\u001b[0;31m \u001b[0mprint\u001b[0m\u001b[0;34m(\u001b[0m\u001b[0;34mf\"\\nTotal de arquivos encontrados: {total_files}\"\u001b[0m\u001b[0;34m)\u001b[0m\u001b[0;34m\u001b[0m\u001b[0;34m\u001b[0m\u001b[0m\n\u001b[0m\u001b[1;32m      2\u001b[0m \u001b[0mprint\u001b[0m\u001b[0;34m(\u001b[0m\u001b[0;34m\"Detalhes dos arquivos encontrados:\"\u001b[0m\u001b[0;34m)\u001b[0m\u001b[0;34m\u001b[0m\u001b[0;34m\u001b[0m\u001b[0m\n\u001b[1;32m      3\u001b[0m \u001b[0;32mfor\u001b[0m \u001b[0mfilename\u001b[0m\u001b[0;34m,\u001b[0m \u001b[0mdate\u001b[0m \u001b[0;32min\u001b[0m \u001b[0mfile_details\u001b[0m\u001b[0;34m:\u001b[0m\u001b[0;34m\u001b[0m\u001b[0;34m\u001b[0m\u001b[0m\n\u001b[1;32m      4\u001b[0m     \u001b[0mprint\u001b[0m\u001b[0;34m(\u001b[0m\u001b[0;34mf\"Arquivo: {filename} | Data: {date}\"\u001b[0m\u001b[0;34m)\u001b[0m\u001b[0;34m\u001b[0m\u001b[0;34m\u001b[0m\u001b[0m\n",
            "\u001b[0;31mNameError\u001b[0m: name 'total_files' is not defined"
          ]
        }
      ]
    },
    {
      "cell_type": "code",
      "source": [],
      "metadata": {
        "id": "eh0mxxLTDOCF"
      },
      "execution_count": null,
      "outputs": []
    }
  ]
}